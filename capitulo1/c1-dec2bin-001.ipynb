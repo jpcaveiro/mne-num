{
 "cells": [
  {
   "cell_type": "code",
   "execution_count": null,
   "metadata": {},
   "outputs": [],
   "source": []
  },
  {
   "cell_type": "code",
   "execution_count": null,
   "metadata": {},
   "outputs": [],
   "source": [
    "def make_random(ekeys=0):\n",
    "    \n",
    "    import numpy\n",
    "    \n",
    "    s_numbits = 5\n",
    "    \n",
    "     \n",
    "    b = [1 0 1 0 1]\n",
    "\n",
    "\n",
    "\n",
    "\n",
    "#c1-dec2bin-001"
   ]
  },
  {
   "cell_type": "code",
   "execution_count": 1,
   "metadata": {},
   "outputs": [
    {
     "data": {
      "text/plain": [
       "21"
      ]
     },
     "execution_count": 1,
     "metadata": {},
     "output_type": "execute_result"
    }
   ],
   "source": [
    "#P18\n",
    "2^4 + 2^2 + 2^0 #b = [1 0 1 0 1]"
   ]
  },
  {
   "cell_type": "code",
   "execution_count": 8,
   "metadata": {},
   "outputs": [
    {
     "name": "stdout",
     "output_type": "stream",
     "text": [
      "28\n",
      "0.656250000000000\n"
     ]
    }
   ],
   "source": [
    "#P13\n",
    "print(2^4 + 2^3 + 2^2 ) #b = [1 1 1 0 0]\n",
    "print(2^(-1) + 2^(-3) + 2.0^(-5)) #b = [0 , 1 0 1 0 1]"
   ]
  },
  {
   "cell_type": "code",
   "execution_count": 3,
   "metadata": {},
   "outputs": [
    {
     "data": {
      "text/plain": [
       "29"
      ]
     },
     "execution_count": 3,
     "metadata": {},
     "output_type": "execute_result"
    }
   ],
   "source": [
    "#P16\n",
    "2^4 + 2^3 + 2^2 + 2^0 #b = [1 1 1 0 1]"
   ]
  },
  {
   "cell_type": "code",
   "execution_count": null,
   "metadata": {},
   "outputs": [],
   "source": []
  }
 ],
 "metadata": {
  "kernelspec": {
   "display_name": "SageMath 9.1",
   "language": "sage",
   "name": "sagemath"
  },
  "language_info": {
   "codemirror_mode": {
    "name": "ipython",
    "version": 3
   },
   "file_extension": ".py",
   "mimetype": "text/x-python",
   "name": "python",
   "nbconvert_exporter": "python",
   "pygments_lexer": "ipython3",
   "version": "3.7.3"
  }
 },
 "nbformat": 4,
 "nbformat_minor": 2
}
